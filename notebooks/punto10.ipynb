{
 "cells": [
  {
   "cell_type": "code",
   "execution_count": 1,
   "metadata": {},
   "outputs": [],
   "source": [
    "import sys\n",
    "import os\n",
    "\n",
    "sys.path.append(os.path.abspath(\"../src\"))\n",
    "\n",
    "ruta_proyecto = os.path.abspath(os.path.join(\"..\"))\n",
    "sys.path.append(ruta_proyecto) "
   ]
  },
  {
   "cell_type": "markdown",
   "metadata": {},
   "source": [
    "# Entrega del ejercicio 10 del TP2 - Sem Python:"
   ]
  },
  {
   "cell_type": "markdown",
   "metadata": {},
   "source": [
    "Disponemos de la siguiente simulacion de rondas de un videojuego:"
   ]
  },
  {
   "cell_type": "code",
   "execution_count": 3,
   "metadata": {},
   "outputs": [],
   "source": [
    "rounds = [\n",
    "{\n",
    "'Shadow': {'kills': 2, 'assists': 1, 'deaths': True},\n",
    "'Blaze': {'kills': 1, 'assists': 0, 'deaths': False},\n",
    "'Viper': {'kills': 1, 'assists': 2, 'deaths': True},\n",
    "'Frost': {'kills': 0, 'assists': 1, 'deaths': False},\n",
    "'Reaper': {'kills': 1, 'assists': 1, 'deaths': False}\n",
    "},\n",
    "{\n",
    "'Shadow': {'kills': 0, 'assists': 2, 'deaths': False},\n",
    "'Blaze': {'kills': 2, 'assists': 0, 'deaths': True},\n",
    "'Viper': {'kills': 1, 'assists': 1, 'deaths': False},\n",
    "'Frost': {'kills': 2, 'assists': 1, 'deaths': True},\n",
    "'Reaper': {'kills': 0, 'assists': 1, 'deaths': False}\n",
    "},\n",
    "{\n",
    "'Shadow': {'kills': 1, 'assists': 0, 'deaths': False},\n",
    "'Blaze': {'kills': 2, 'assists': 2, 'deaths': True},\n",
    "'Viper': {'kills': 1, 'assists': 1, 'deaths': True},\n",
    "'Frost': {'kills': 0, 'assists': 1, 'deaths': False},\n",
    "'Reaper': {'kills': 1, 'assists': 1, 'deaths': False}\n",
    "},\n",
    "{\n",
    "'Shadow': {'kills': 2, 'assists': 1, 'deaths': False},\n",
    "'Blaze': {'kills': 1, 'assists': 0, 'deaths': True},\n",
    "'Viper': {'kills': 0, 'assists': 2, 'deaths': False},\n",
    "'Frost': {'kills': 1, 'assists': 1, 'deaths': True},\n",
    "'Reaper': {'kills': 1, 'assists': 1, 'deaths': False}\n",
    "},\n",
    "{\n",
    "'Shadow': {'kills': 1, 'assists': 2, 'deaths': True},\n",
    "'Blaze': {'kills': 0, 'assists': 1, 'deaths': False},\n",
    "'Viper': {'kills': 2, 'assists': 0, 'deaths': True},\n",
    "'Frost': {'kills': 1, 'assists': 1, 'deaths': False},\n",
    "'Reaper': {'kills': 1, 'assists': 1, 'deaths': True}\n",
    "}\n",
    "]"
   ]
  },
  {
   "cell_type": "markdown",
   "metadata": {},
   "source": [
    "##### Se nos pide llevar un puntaje de cada jugador por cada ronda, y al final, presentar un ranking final de los mismos y sus estadisticas completas. \n",
    "Nota: además debemos determinar el mvp (mejor jugador) de cada ronda, e ir sumando las veces que consiguio ese logro para la estadistica final."
   ]
  },
  {
   "cell_type": "code",
   "execution_count": 4,
   "metadata": {},
   "outputs": [],
   "source": [
    "# Antes que nada importamos nuestra carpeta con el codigo\n",
    "\n",
    "from src.funciones import *\n",
    "\n"
   ]
  },
  {
   "cell_type": "markdown",
   "metadata": {},
   "source": [
    "Ahora, para empezar a resolver, creamos un diccionario donde guardaremos las estadisticas completas de los jugadores, de principio a fin."
   ]
  },
  {
   "cell_type": "code",
   "execution_count": 5,
   "metadata": {},
   "outputs": [],
   "source": [
    "stats = inicializar_stats(rounds)"
   ]
  },
  {
   "cell_type": "markdown",
   "metadata": {},
   "source": [
    "Viendo el codigo de la funcion:"
   ]
  },
  {
   "cell_type": "code",
   "execution_count": 6,
   "metadata": {},
   "outputs": [],
   "source": [
    "def inicializar_stats(rounds):\n",
    "    \"\"\"Crea un diccionario con las estadisticas completas de cada jugador iniciadas en 0\"\"\"\n",
    "    stats = {}\n",
    "    for player in rounds[0].keys():\n",
    "        stats[player] = {'kills': 0, 'assists': 0, 'deaths': 0, 'mvp': 0, 'score': 0}\n",
    "    return stats"
   ]
  },
  {
   "cell_type": "markdown",
   "metadata": {},
   "source": [
    "Una vez teniendo nuesttra estructura de datos para ir guardando las stats, pasamos a lo mas complejo, que es procesar las rondas:"
   ]
  },
  {
   "cell_type": "code",
   "execution_count": 7,
   "metadata": {},
   "outputs": [],
   "source": [
    "def procesar_rondas(stats, rounds):\n",
    "    \"\"\"Funcion que procesa cada ronda imprimiendo su puntaje y determinando el mvp. La ultima ronda será el punatje final\"\"\"\n",
    "    for i, ronda in enumerate(rounds):     # enumerate me devuelve indice y valor\n",
    "        print(f'Ranking de ronda numero {i+1} :')\n",
    "        round_points = {}   #creo dictt para ir llevando nombre y puntaje por ronda\n",
    "        for player, data in ronda.items():     # items me devuelve clave y valor, parecido a items en listas\n",
    "            kills = data['kills']\n",
    "            assists = data['assists']\n",
    "            deaths = 1 if data['deaths'] else 0\n",
    "            points = calcular_puntos(kills, assists, deaths)\n",
    "\n",
    "            stats[player]['kills'] += kills\n",
    "            stats[player]['assists'] += assists\n",
    "            stats[player]['deaths'] += deaths\n",
    "            stats[player]['score'] += points\n",
    "\n",
    "            round_points[player] = points\n",
    "   \n",
    "        determinar_mvp(stats, round_points)\n",
    "        last_score = ordenar_puntaje_descendente(stats, list(stats))\n",
    "    return last_score\n"
   ]
  },
  {
   "cell_type": "markdown",
   "metadata": {},
   "source": [
    "Vemos que en cierto momento llama a una funcion llamada \"calcular_puntos\". Es muy basica y funciona asi:"
   ]
  },
  {
   "cell_type": "code",
   "execution_count": 8,
   "metadata": {},
   "outputs": [],
   "source": [
    "def calcular_puntos(k, a, d):\n",
    "    return k * 3 + a * 1 - d"
   ]
  },
  {
   "cell_type": "markdown",
   "metadata": {},
   "source": [
    "Esta funcion tiene ademas otras dos funciones al final de cada ronda. Una para determinar el mvp, y otra para ordenar los jugadores por puntaje:"
   ]
  },
  {
   "cell_type": "code",
   "execution_count": 9,
   "metadata": {},
   "outputs": [],
   "source": [
    "def determinar_mvp(stats, round_points):\n",
    "            mvp = max(round_points, key=round_points.get)   #no termine de entender pero se usa get en vez de get()\n",
    "            stats[mvp]['mvp'] += 1\n",
    "\n",
    "def ordenar_puntaje_descendente(stats, scores):\n",
    "            scores = sorted(stats.items(), key=lambda x: x[1]['score'], reverse=True)\n",
    "            for player, data in scores:\n",
    "                print(f\"{player}: {data['score']} puntos\")\n",
    "        \n",
    "            print(\"-\" * 35)\n",
    "            return scores"
   ]
  },
  {
   "cell_type": "markdown",
   "metadata": {},
   "source": [
    "Bien, una vez procesadas todas las rondas, la funcion de procesar devuelve un ultimo puntaje, el cual sera el puntaje final que guardaremos en la siguiente variable:"
   ]
  },
  {
   "cell_type": "code",
   "execution_count": 1,
   "metadata": {},
   "outputs": [
    {
     "ename": "NameError",
     "evalue": "name 'procesar_rondas' is not defined",
     "output_type": "error",
     "traceback": [
      "\u001b[31m---------------------------------------------------------------------------\u001b[39m",
      "\u001b[31mNameError\u001b[39m                                 Traceback (most recent call last)",
      "\u001b[36mCell\u001b[39m\u001b[36m \u001b[39m\u001b[32mIn[1]\u001b[39m\u001b[32m, line 1\u001b[39m\n\u001b[32m----> \u001b[39m\u001b[32m1\u001b[39m total = \u001b[43mprocesar_rondas\u001b[49m(stats, rounds)\n",
      "\u001b[31mNameError\u001b[39m: name 'procesar_rondas' is not defined"
     ]
    }
   ],
   "source": [
    "total = procesar_rondas(stats, rounds)"
   ]
  },
  {
   "cell_type": "markdown",
   "metadata": {},
   "source": [
    "Una vez procesadas todas las rondas, solo resta imprimir el ranking final. Para eso usamos el calculo de la ultima ronda y presentamos una version completa de las stats:"
   ]
  },
  {
   "cell_type": "code",
   "execution_count": 11,
   "metadata": {},
   "outputs": [],
   "source": [
    "def imprimir_rank_final(scores):\n",
    "    \"\"\"Esta funcion recibe las stats de la ronda final y presenta el ranking con estadisticas completas\"\"\"\n",
    "    print(\"\\n\")\n",
    "    print(\"Ranking final:\\n\")\n",
    "    print(\"Jugador  Kills  Asistencias  Muertes  MVPs  Puntos\")\n",
    "    print(\"-\" * 52)\n",
    "    for player, data in scores:\n",
    "        print(f\"{player:6} {data['kills']:5} {data['assists']:9} {data['deaths']:10} {data['mvp']:6} {data['score']:7}\")\n",
    "    print(\"-\" * 52)"
   ]
  },
  {
   "cell_type": "markdown",
   "metadata": {},
   "source": [
    "Y si invocamos a esta funcion..."
   ]
  },
  {
   "cell_type": "code",
   "execution_count": 12,
   "metadata": {},
   "outputs": [
    {
     "name": "stdout",
     "output_type": "stream",
     "text": [
      "\n",
      "\n",
      "Ranking final:\n",
      "\n",
      "Jugador  Kills  Asistencias  Muertes  MVPs  Puntos\n",
      "----------------------------------------------------\n",
      "Shadow     6         6          2      2      22\n",
      "Blaze      6         3          3      1      18\n",
      "Viper      5         6          3      1      18\n",
      "Reaper     4         5          1      0      16\n",
      "Frost      4         5          2      1      15\n",
      "----------------------------------------------------\n"
     ]
    }
   ],
   "source": [
    "imprimir_rank_final(total)"
   ]
  },
  {
   "cell_type": "markdown",
   "metadata": {},
   "source": [
    "## Obtenemos los resultados finales ! "
   ]
  }
 ],
 "metadata": {
  "kernelspec": {
   "display_name": "venv",
   "language": "python",
   "name": "python3"
  },
  "language_info": {
   "codemirror_mode": {
    "name": "ipython",
    "version": 3
   },
   "file_extension": ".py",
   "mimetype": "text/x-python",
   "name": "python",
   "nbconvert_exporter": "python",
   "pygments_lexer": "ipython3",
   "version": "3.12.9"
  }
 },
 "nbformat": 4,
 "nbformat_minor": 4
}
